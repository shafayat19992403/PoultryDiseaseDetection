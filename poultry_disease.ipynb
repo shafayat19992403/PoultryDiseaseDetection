{
 "cells": [
  {
   "cell_type": "code",
   "execution_count": 1,
   "metadata": {},
   "outputs": [],
   "source": [
    "import zipfile\n",
    "import os\n",
    "import pandas as pd\n",
    "from sklearn.model_selection import train_test_split"
   ]
  },
  {
   "cell_type": "code",
   "execution_count": null,
   "metadata": {},
   "outputs": [],
   "source": [
    "zip_file = 'Dataset.zip'  # Path to your zip file\n",
    "unzip_dir = 'dataset'  # Directory where the files will be extracted\n",
    "\n",
    "try:\n",
    "    with zipfile.ZipFile(zip_file, 'r') as zip_ref:\n",
    "        zip_ref.extractall(unzip_dir)\n",
    "except zipfile.BadZipFile:\n",
    "    print(\"Error: The zip file might have unusual formatting or features.\")\n",
    "    print(\"Trying to extract using 'shutil' module as an alternative...\")\n",
    "    import shutil\n",
    "    shutil.unpack_archive(zip_file, unzip_dir, 'zip')  # Use shutil to extract\n",
    "    print(\"Extraction successful using shutil.\")\n",
    "except Exception as e:\n",
    "    print(f\"An unexpected error occurred: {e}\")\n"
   ]
  }
 ],
 "metadata": {
  "kernelspec": {
   "display_name": "Python 3",
   "language": "python",
   "name": "python3"
  },
  "language_info": {
   "codemirror_mode": {
    "name": "ipython",
    "version": 3
   },
   "file_extension": ".py",
   "mimetype": "text/x-python",
   "name": "python",
   "nbconvert_exporter": "python",
   "pygments_lexer": "ipython3",
   "version": "3.11.4"
  }
 },
 "nbformat": 4,
 "nbformat_minor": 2
}
