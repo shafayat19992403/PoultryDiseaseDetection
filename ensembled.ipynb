{
 "cells": [
  {
   "cell_type": "code",
   "execution_count": 1,
   "metadata": {},
   "outputs": [],
   "source": [
    "import zipfile\n",
    "import os\n",
    "import pandas as pd\n",
    "from sklearn.model_selection import train_test_split\n",
    "\n",
    "import os\n",
    "import torch\n",
    "import pandas as pd\n",
    "from torch import nn, optim\n",
    "from torch.utils.data import DataLoader, Dataset\n",
    "from torchvision import transforms, datasets, models\n",
    "from sklearn.model_selection import train_test_split\n",
    "from efficientnet_pytorch import EfficientNet\n",
    "\n",
    "# Step 1: Load the train and test datasets\n",
    "train_df = pd.read_csv('train_dataset.csv')\n",
    "test_df = pd.read_csv('test_dataset.csv')\n",
    "\n",
    "# Step 2: Custom Dataset Class to Load Images\n",
    "class CustomImageDataset(Dataset):\n",
    "    def __init__(self, dataframe, transform=None):\n",
    "        self.dataframe = dataframe\n",
    "        self.transform = transform\n",
    "\n",
    "    def __len__(self):\n",
    "        return len(self.dataframe)\n",
    "\n",
    "    def __getitem__(self, idx):\n",
    "        img_path = self.dataframe.iloc[idx, 0]\n",
    "        label = 1 if self.dataframe.iloc[idx, 1] == 'healthy' else 0\n",
    "        image = datasets.folder.default_loader(img_path)\n",
    "        \n",
    "        if self.transform:\n",
    "            image = self.transform(image)\n",
    "\n",
    "        return image, label\n",
    "\n",
    "# Step 3: Define transformations (for training and testing)\n",
    "train_transforms = transforms.Compose([\n",
    "    transforms.Resize((224, 224)),  # EfficientNet expects 224x224 input size\n",
    "    transforms.RandomHorizontalFlip(),\n",
    "    transforms.RandomRotation(30),\n",
    "    transforms.ToTensor(),\n",
    "    transforms.Normalize(mean=[0.485, 0.456, 0.406], std=[0.229, 0.224, 0.225])  # ImageNet stats\n",
    "])\n",
    "\n",
    "test_transforms = transforms.Compose([\n",
    "    transforms.Resize((224, 224)),\n",
    "    transforms.ToTensor(),\n",
    "    transforms.Normalize(mean=[0.485, 0.456, 0.406], std=[0.229, 0.224, 0.225])  # ImageNet stats\n",
    "])\n",
    "\n",
    "# Step 4: Create DataLoaders\n",
    "train_dataset = CustomImageDataset(dataframe=train_df, transform=train_transforms)\n",
    "test_dataset = CustomImageDataset(dataframe=test_df, transform=test_transforms)\n",
    "\n",
    "train_loader = DataLoader(train_dataset, batch_size=32, shuffle=True)\n",
    "test_loader = DataLoader(test_dataset, batch_size=32, shuffle=False)"
   ]
  },
  {
   "cell_type": "code",
   "execution_count": 3,
   "metadata": {},
   "outputs": [],
   "source": [
    "device = torch.device(\"cuda\" if torch.cuda.is_available() else \"cpu\")"
   ]
  },
  {
   "cell_type": "code",
   "execution_count": 4,
   "metadata": {},
   "outputs": [
    {
     "name": "stdout",
     "output_type": "stream",
     "text": [
      "Loaded pretrained weights for efficientnet-b0\n",
      "Model loaded successfully!\n"
     ]
    }
   ],
   "source": [
    "# Recreate the model architecture\n",
    "modelOne = EfficientNet.from_pretrained('efficientnet-b0')\n",
    "modelOne._fc = nn.Linear(in_features=modelOne._fc.in_features, out_features=2)  # Modify for binary classification\n",
    "\n",
    "# Load the saved state_dict\n",
    "modelOne.load_state_dict(torch.load('efficientnet_model.pth'))\n",
    "modelOne = modelOne.to(device)  # Make sure to move the model to the correct device (CPU or GPU)\n",
    "print(\"Model loaded successfully!\")\n"
   ]
  },
  {
   "cell_type": "code",
   "execution_count": 5,
   "metadata": {},
   "outputs": [
    {
     "name": "stderr",
     "output_type": "stream",
     "text": [
      "/Library/Frameworks/Python.framework/Versions/3.11/lib/python3.11/site-packages/torchvision/models/_utils.py:208: UserWarning: The parameter 'pretrained' is deprecated since 0.13 and may be removed in the future, please use 'weights' instead.\n",
      "  warnings.warn(\n",
      "/Library/Frameworks/Python.framework/Versions/3.11/lib/python3.11/site-packages/torchvision/models/_utils.py:223: UserWarning: Arguments other than a weight enum or `None` for 'weights' are deprecated since 0.13 and may be removed in the future. The current behavior is equivalent to passing `weights=None`.\n",
      "  warnings.warn(msg)\n"
     ]
    },
    {
     "name": "stdout",
     "output_type": "stream",
     "text": [
      "loaded successfully\n"
     ]
    }
   ],
   "source": [
    "modelResnet = models.resnet50(pretrained=False)\n",
    "\n",
    "# Modify the final layer for binary classification (2 classes: healthy, unhealthy)\n",
    "modelResnet.fc = torch.nn.Linear(in_features=modelResnet.fc.in_features, out_features=2)\n",
    "\n",
    "# Step 2: Load the saved state_dict (weights), allowing for mismatch in final layer\n",
    "modelResnet.load_state_dict(torch.load('resnet50_model.pth'), strict=False)\n",
    "print(\"loaded successfully\")"
   ]
  },
  {
   "cell_type": "code",
   "execution_count": 7,
   "metadata": {},
   "outputs": [
    {
     "name": "stdout",
     "output_type": "stream",
     "text": [
      "Ensemble Accuracy: 0.9722\n",
      "Ensemble Precision: 0.9708\n",
      "Ensemble Recall: 0.9940\n",
      "Ensemble F1 Score: 0.9822\n",
      "Ensemble ROC AUC: 0.9935\n",
      "Ensemble PR AUC: 0.9979\n",
      "Ensemble Confusion Matrix:\n",
      "[[ 44   5]\n",
      " [  1 166]]\n",
      "Ensemble Classification Report:\n",
      "              precision    recall  f1-score   support\n",
      "\n",
      "           0       0.98      0.90      0.94        49\n",
      "           1       0.97      0.99      0.98       167\n",
      "\n",
      "    accuracy                           0.97       216\n",
      "   macro avg       0.97      0.95      0.96       216\n",
      "weighted avg       0.97      0.97      0.97       216\n",
      "\n"
     ]
    }
   ],
   "source": [
    "from sklearn.metrics import precision_score, recall_score, f1_score, confusion_matrix, classification_report, roc_auc_score, average_precision_score\n",
    "import numpy as np\n",
    "import torch\n",
    "\n",
    "# Set both models to evaluation mode\n",
    "modelResnet.eval()\n",
    "modelOne.eval()\n",
    "\n",
    "# Lists to store true labels, predictions, and predicted probabilities for ROC AUC and PR AUC\n",
    "y_true = []\n",
    "y_pred = []\n",
    "y_prob = []  # To store predicted probabilities for ROC AUC and PR AUC\n",
    "\n",
    "with torch.no_grad():\n",
    "    for images, labels in test_loader:\n",
    "        images, labels = images.to(device), labels.to(device)\n",
    "        \n",
    "        # Get predictions from ResNet\n",
    "        outputs_resnet = modelResnet(images)\n",
    "        probs_resnet = torch.softmax(outputs_resnet, dim=1)\n",
    "        \n",
    "        # Get predictions from EfficientNet\n",
    "        outputs_efficientnet = modelOne(images)\n",
    "        probs_efficientnet = torch.softmax(outputs_efficientnet, dim=1)\n",
    "        \n",
    "        # Average the probabilities\n",
    "        avg_probs = (probs_resnet + probs_efficientnet) / 2\n",
    "        \n",
    "        # Get the final prediction (class with the highest probability)\n",
    "        _, predicted = torch.max(avg_probs, 1)\n",
    "\n",
    "        # Store the true labels, predictions, and probabilities for ROC AUC and PR AUC\n",
    "        y_true.extend(labels.cpu().numpy())\n",
    "        y_pred.extend(predicted.cpu().numpy())\n",
    "        \n",
    "        # Store probabilities for the 'healthy' class (class 1)\n",
    "        y_prob.extend(avg_probs[:, 1].cpu().numpy())\n",
    "\n",
    "# Convert to numpy arrays for easier handling with sklearn\n",
    "y_true = np.array(y_true)\n",
    "y_pred = np.array(y_pred)\n",
    "y_prob = np.array(y_prob)\n",
    "\n",
    "# Accuracy\n",
    "accuracy = np.sum(y_pred == y_true) / len(y_true)\n",
    "\n",
    "# Precision, Recall, F1 Score\n",
    "precision = precision_score(y_true, y_pred, average='binary')\n",
    "recall = recall_score(y_true, y_pred, average='binary')\n",
    "f1 = f1_score(y_true, y_pred, average='binary')\n",
    "\n",
    "# Confusion Matrix\n",
    "conf_matrix = confusion_matrix(y_true, y_pred)\n",
    "\n",
    "# Classification Report\n",
    "class_report = classification_report(y_true, y_pred)\n",
    "\n",
    "# ROC AUC (Area Under the ROC Curve)\n",
    "roc_auc = roc_auc_score(y_true, y_prob)\n",
    "\n",
    "# PR AUC (Area Under the Precision-Recall Curve)\n",
    "pr_auc = average_precision_score(y_true, y_prob)\n",
    "\n",
    "# Print the results\n",
    "print(f'Ensemble Accuracy: {accuracy:.4f}')\n",
    "print(f'Ensemble Precision: {precision:.4f}')\n",
    "print(f'Ensemble Recall: {recall:.4f}')\n",
    "print(f'Ensemble F1 Score: {f1:.4f}')\n",
    "print(f'Ensemble ROC AUC: {roc_auc:.4f}')\n",
    "print(f'Ensemble PR AUC: {pr_auc:.4f}')\n",
    "print(f'Ensemble Confusion Matrix:\\n{conf_matrix}')\n",
    "print(f'Ensemble Classification Report:\\n{class_report}')\n"
   ]
  }
 ],
 "metadata": {
  "kernelspec": {
   "display_name": "Python 3",
   "language": "python",
   "name": "python3"
  },
  "language_info": {
   "codemirror_mode": {
    "name": "ipython",
    "version": 3
   },
   "file_extension": ".py",
   "mimetype": "text/x-python",
   "name": "python",
   "nbconvert_exporter": "python",
   "pygments_lexer": "ipython3",
   "version": "3.11.4"
  }
 },
 "nbformat": 4,
 "nbformat_minor": 2
}
